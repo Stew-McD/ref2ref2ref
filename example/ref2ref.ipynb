{
 "cells": [
  {
   "cell_type": "code",
   "execution_count": 19,
   "source": [
    "import os\n",
    "from pathlib import Path\n",
    "import crossref_commons.retrieval\n",
    "from time import sleep\n",
    "from parsebib import bib2df\n",
    "from tqdm import tqdm  # Import tqdm for progress tracking\n",
    "\n",
    "dir_path = os.path.dirname(os.path.realpath(__file__))\n",
    "os.chdir(dir_path)\n",
    "\n",
    "RECURSION_DEPTH = 4\n",
    "\n",
    "DIR_CWD = Path.cwd()\n",
    "DIR_DATA = DIR_CWD / 'data'\n",
    "DIR_OUTPUT = DIR_DATA / 'output'\n",
    "DIR_INPUT = DIR_DATA / 'input'\n",
    "DIR_TMP = DIR_DATA / 'tmp'\n",
    "\n",
    "DIRS = [DIR_DATA, DIR_OUTPUT, DIR_INPUT, DIR_TMP]\n",
    "for DIR in DIRS: DIR.mkdir(exist_ok=True)\n",
    "\n",
    "FILE_BIB = DIR_INPUT / 'alphabet.bib'\n",
    "FILE_TXT_OUT = DIR_OUTPUT / 'alphabet.txt'\n",
    "\n",
    "df = bib2df(FILE_BIB)\n",
    "if df.empty:\n",
    "    print('No data found, check input file')\n",
    "    exit()            \n",
    "\n",
    "df['doi'] = df['doi'].str.replace(r'\\\\_', '_', regex=True)\n",
    "bib_dois = df['doi'].dropna().tolist()\n",
    "\n",
    "# setup crossref user agent using environmental variables\n",
    "os.environ['CR_API_AGENT'] = \"polite user agent; including mailto:scmm@pm.me\"\n",
    "os.environ['CR_API_MAILTO'] = \"scmm@pm.me\"\n",
    "\n",
    "# function to get related dois\n",
    "def get_related_dois(bib_dois, i=0):\n",
    "    bib_dois_all = bib_dois.copy()\n",
    "    bib_dois_extended = bib_dois.copy()\n",
    "    sleep_duration = 0.1  # Initial sleep duration\n",
    "\n",
    "    for j, bib_doi in enumerate(tqdm(bib_dois, desc=f'Iteration {i+1}')):\n",
    "        sleep_duration = max(0, sleep_duration - 0.1*sleep_duration)  # Decrease sleep duration, down to a minimum of 0.5 seconds\n",
    "        try:\n",
    "            ref = crossref_commons.retrieval.get_publication_as_json(bib_doi)\n",
    "            refs = [x['DOI'] for x in ref['reference'] if 'DOI' in x.keys() and x['DOI'] not in bib_dois_extended]\n",
    "            refs_all = [x['DOI'] for x in ref['reference'] if 'DOI' in x.keys()]\n",
    "            bib_dois_extended.extend(refs)\n",
    "            bib_dois_all.extend(refs_all)\n",
    "            sleep(sleep_duration)\n",
    "        except Exception as e:\n",
    "            if '503' in str(e):\n",
    "                sleep_duration = min(10, sleep_duration + 0.1*sleep_duration)  # Increase sleep duration, up to a maximum of 10 seconds\n",
    "                sleep(sleep_duration)\n",
    "            pass\n",
    "    \n",
    "    print(f'\\n Finished!')\n",
    "    print(f'Length of doi list (inc. duplicates {len(bib_dois_all)}')\n",
    "    print(f'Length of doi list (suppodedly no duplicates {len(bib_dois_extended)}')\n",
    "    bib_dois_ext = list(set(bib_dois_extended))\n",
    "    print(f'Length of doi set (actually no duplicates) {len(bib_dois_ext)}')\n",
    "\n",
    "    filename = Path(f\"{DIR_OUTPUT / FILE_TXT_OUT.stem}_{i}{FILE_TXT_OUT.suffix}\")\n",
    "    with open(filename, 'w') as f:\n",
    "        for item in bib_dois_ext:\n",
    "            f.write(\"%s\\n\" % item)\n",
    "    print(f'Wrote to {FILE_TXT_OUT.name}\\n')\n",
    "    \n",
    "    return bib_dois_ext\n",
    "\n",
    "# repeat the process to get references of references and references of references of references and references of references..... \n",
    "# be aware that number of dois will increase exponentially\n",
    "# something like --> unique_dois = (number in original)*25^recursion_depth \n",
    "for i in range(RECURSION_DEPTH):\n",
    "    print(f'{\"=\"*80}\\n')\n",
    "    print('\\t** Searching for refererences of references **')\n",
    "    print(f'{\"-\"*80}\\n')\n",
    "    print(f'\\t Iteration {i+1}/{RECURSION_DEPTH}')\n",
    "    print(f'\\t Using {FILE_BIB.name} as input')\n",
    "    print(f'\\t Length of doi list {len(bib_dois)}')\n",
    "    print(f'{\"-\"*80}\\n')\n",
    "    bib_dois = get_related_dois(bib_dois, i)\n",
    "    \n",
    "    print(f'{\"=\"*80}\\n')"
   ],
   "outputs": [
    {
     "output_type": "stream",
     "name": "stdout",
     "text": [
      "================================================================================\n",
      "\n",
      "\t** Searching for refererences of references **\n",
      "--------------------------------------------------------------------------------\n",
      "\n",
      "\t Iteration 1/4\n",
      "\t Using alphabet.bib as input\n",
      "\t Length of doi list 1\n",
      "--------------------------------------------------------------------------------\n",
      "\n"
     ]
    },
    {
     "output_type": "stream",
     "name": "stderr",
     "text": [
      "Iteration 1: 100%|██████████| 1/1 [00:00<00:00,  1.35it/s]\n"
     ]
    },
    {
     "output_type": "stream",
     "name": "stdout",
     "text": [
      "\n",
      " Finished!\n",
      "Length of doi list (inc. duplicates 27\n",
      "Length of doi list (suppodedly no duplicates 27\n",
      "Length of doi set (actually no duplicates) 27\n",
      "Wrote to alphabet.txt\n",
      "\n",
      "================================================================================\n",
      "\n",
      "================================================================================\n",
      "\n",
      "\t** Searching for refererences of references **\n",
      "--------------------------------------------------------------------------------\n",
      "\n",
      "\t Iteration 2/4\n",
      "\t Using alphabet.bib as input\n",
      "\t Length of doi list 27\n",
      "--------------------------------------------------------------------------------\n",
      "\n"
     ]
    },
    {
     "output_type": "stream",
     "name": "stderr",
     "text": [
      "Iteration 2: 100%|██████████| 27/27 [00:18<00:00,  1.49it/s]\n"
     ]
    },
    {
     "output_type": "stream",
     "name": "stdout",
     "text": [
      "\n",
      " Finished!\n",
      "Length of doi list (inc. duplicates 548\n",
      "Length of doi list (suppodedly no duplicates 428\n",
      "Length of doi set (actually no duplicates) 428\n",
      "Wrote to alphabet.txt\n",
      "\n",
      "================================================================================\n",
      "\n",
      "================================================================================\n",
      "\n",
      "\t** Searching for refererences of references **\n",
      "--------------------------------------------------------------------------------\n",
      "\n",
      "\t Iteration 3/4\n",
      "\t Using alphabet.bib as input\n",
      "\t Length of doi list 428\n",
      "--------------------------------------------------------------------------------\n",
      "\n"
     ]
    },
    {
     "output_type": "stream",
     "name": "stderr",
     "text": [
      "Iteration 3: 100%|██████████| 428/428 [04:32<00:00,  1.57it/s]\n"
     ]
    },
    {
     "output_type": "stream",
     "name": "stdout",
     "text": [
      "\n",
      " Finished!\n",
      "Length of doi list (inc. duplicates 10902\n",
      "Length of doi list (suppodedly no duplicates 7291\n",
      "Length of doi set (actually no duplicates) 7228\n",
      "Wrote to alphabet.txt\n",
      "\n",
      "================================================================================\n",
      "\n",
      "================================================================================\n",
      "\n",
      "\t** Searching for refererences of references **\n",
      "--------------------------------------------------------------------------------\n",
      "\n",
      "\t Iteration 4/4\n",
      "\t Using alphabet.bib as input\n",
      "\t Length of doi list 7228\n",
      "--------------------------------------------------------------------------------\n",
      "\n"
     ]
    },
    {
     "output_type": "stream",
     "name": "stderr",
     "text": [
      "Iteration 4: 100%|██████████| 7228/7228 [1:21:07<00:00,  1.48it/s]"
     ]
    },
    {
     "output_type": "stream",
     "name": "stdout",
     "text": [
      "\n",
      " Finished!\n",
      "Length of doi list (inc. duplicates 164062\n",
      "Length of doi list (suppodedly no duplicates 95631\n",
      "Length of doi set (actually no duplicates) 94958\n",
      "Wrote to alphabet.txt\n",
      "\n",
      "================================================================================\n",
      "\n"
     ]
    },
    {
     "output_type": "stream",
     "name": "stderr",
     "text": [
      "\n"
     ]
    }
   ],
   "metadata": {}
  }
 ],
 "nbformat": 4,
 "nbformat_minor": 2,
 "metadata": {
  "language_info": {
   "codemirror_mode": {
    "name": "ipython",
    "version": 3
   },
   "file_extension": ".py",
   "mimetype": "text/x-python",
   "name": "python",
   "nbconvert_exporter": "python",
   "pygments_lexer": "ipython3",
   "version": 3
  }
 }
}